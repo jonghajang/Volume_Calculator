{
 "cells": [
  {
   "cell_type": "code",
   "execution_count": 184,
   "metadata": {},
   "outputs": [],
   "source": [
    "import os\n",
    "import os.path as path\n",
    "import numpy as np\n",
    "import matplotlib.pyplot as plt\n",
    "import nibabel as nib\n",
    "import pandas as pd\n",
    "import glob"
   ]
  },
  {
   "cell_type": "code",
   "execution_count": 185,
   "metadata": {},
   "outputs": [],
   "source": [
    "def print_progressbar(total, i):\n",
    "    \"\"\"\n",
    "    total : total iteration number.\n",
    "    i : iteration count, starting from 0.\n",
    "    \"\"\"\n",
    "    import math\n",
    "    step = 25 / total\n",
    "\n",
    "    # Print the progress bar\n",
    "    print('\\r' + f'Progress: '\n",
    "        f\"[{'=' * int((i+1) * step) + ' ' * (25 - int((i+1) * step))}]\"\n",
    "        f\"({math.floor((i+1) * 100 / (total))} %) ({i+1}/{total})\",\n",
    "        end='')\n",
    "    if (i+1) == total: print(\"\")"
   ]
  },
  {
   "cell_type": "markdown",
   "metadata": {},
   "source": [
    "## image path"
   ]
  },
  {
   "cell_type": "code",
   "execution_count": 186,
   "metadata": {},
   "outputs": [],
   "source": [
    "IMAGE_PATH = 'segment_image_file'\n",
    "file_paths = glob.glob(path.join(IMAGE_PATH,'*nii.gz'))"
   ]
  },
  {
   "cell_type": "code",
   "execution_count": 187,
   "metadata": {},
   "outputs": [
    {
     "data": {
      "text/plain": [
       "['segment_image_file/sample2.nii.gz', 'segment_image_file/sample1.nii.gz']"
      ]
     },
     "execution_count": 187,
     "metadata": {},
     "output_type": "execute_result"
    }
   ],
   "source": [
    "file_paths"
   ]
  },
  {
   "cell_type": "markdown",
   "metadata": {},
   "source": [
    "## image  load"
   ]
  },
  {
   "cell_type": "code",
   "execution_count": 188,
   "metadata": {},
   "outputs": [],
   "source": [
    "seg_images = [nib.load(path) for path in file_paths]"
   ]
  },
  {
   "cell_type": "code",
   "execution_count": 189,
   "metadata": {},
   "outputs": [
    {
     "data": {
      "text/plain": [
       "(512, 512, 50)"
      ]
     },
     "execution_count": 189,
     "metadata": {},
     "output_type": "execute_result"
    }
   ],
   "source": [
    "## image shape example X x Y x Z\n",
    "\n",
    "seg_images[0].shape"
   ]
  },
  {
   "cell_type": "markdown",
   "metadata": {},
   "source": [
    "## volume calculate"
   ]
  },
  {
   "cell_type": "code",
   "execution_count": 190,
   "metadata": {},
   "outputs": [
    {
     "name": "stdout",
     "output_type": "stream",
     "text": [
      "Progress: [=========================](100 %) (2/2)\n"
     ]
    }
   ],
   "source": [
    "df = pd.DataFrame(columns=['img_name','voxel_count', 'Volume_mm^3', 'Volume_cc'])\n",
    "\n",
    "for i in range(0,len(seg_images)):\n",
    "    \n",
    "    img = file_paths[i].split(\"/\")[1]\n",
    "    \n",
    "    img_header = seg_images[i].header\n",
    "    img_header_zooms = img_header.get_zooms()\n",
    "    \n",
    "    np_images = seg_images[i].get_data()\n",
    "    np_images.shape  ## 512(x) x 512(y) x 50(z)images\n",
    "    \n",
    "    ## count number of voxel\n",
    "\n",
    "    num_vox = np.sum(np_images > 0)\n",
    "    \n",
    "\n",
    "    ## 3D image has 3 dimension, so distinguish 2D from the calculation.\n",
    "\n",
    "    if len(img_header_zooms)==3 :\n",
    "        volume_mm = img_header_zooms[0]*img_header_zooms[1]*img_header_zooms[2]*num_vox\n",
    "    else :\n",
    "        volume_mm = img_header_zooms[0]*img_header_zooms[1]**num_vox\n",
    "    \n",
    "    ## calculate cc\n",
    "\n",
    "    volume_cc = volume_mm*0.001\n",
    "\n",
    "\n",
    "    ## save to dataframe\n",
    "\n",
    "    df = df.append({\n",
    "        'img_name' : img,\n",
    "        'voxel_count' : num_vox,\n",
    "        'Volume_mm^3' : volume_mm,\n",
    "        'Volume_cc' : volume_cc\n",
    "    }, ignore_index=True)\n",
    "    print_progressbar(len(seg_images), i)"
   ]
  },
  {
   "cell_type": "markdown",
   "metadata": {},
   "source": [
    "## dataframe_result"
   ]
  },
  {
   "cell_type": "code",
   "execution_count": 191,
   "metadata": {},
   "outputs": [],
   "source": [
    "os.mkdir(\"result\")\n",
    "\n",
    "df.to_csv(\"./result/result.csv\")"
   ]
  },
  {
   "cell_type": "code",
   "execution_count": null,
   "metadata": {},
   "outputs": [],
   "source": []
  }
 ],
 "metadata": {
  "kernelspec": {
   "display_name": "ML",
   "language": "python",
   "name": "ml"
  },
  "language_info": {
   "codemirror_mode": {
    "name": "ipython",
    "version": 3
   },
   "file_extension": ".py",
   "mimetype": "text/x-python",
   "name": "python",
   "nbconvert_exporter": "python",
   "pygments_lexer": "ipython3",
   "version": "3.7.3"
  }
 },
 "nbformat": 4,
 "nbformat_minor": 2
}
